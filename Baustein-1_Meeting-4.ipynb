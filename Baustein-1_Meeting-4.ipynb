{
 "cells": [
  {
   "cell_type": "markdown",
   "metadata": {},
   "source": [
    "# Baustein 1 Meeting 4"
   ]
  },
  {
   "cell_type": "markdown",
   "metadata": {},
   "source": [
    "## 1. Solutions for the last tasks"
   ]
  },
  {
   "cell_type": "markdown",
   "metadata": {},
   "source": [
    "(All solutions are only examples, there are many ways that lead to the same result)"
   ]
  },
  {
   "cell_type": "markdown",
   "metadata": {},
   "source": [
    "### 1.1 Functions"
   ]
  },
  {
   "cell_type": "markdown",
   "metadata": {},
   "source": [
    "**Combat**"
   ]
  },
  {
   "cell_type": "code",
   "execution_count": null,
   "metadata": {},
   "outputs": [],
   "source": [
    "def combat(health, damage):\n",
    "    difference = health - damage\n",
    "    if difference < 0:\n",
    "        return 0\n",
    "    else: \n",
    "        return difference\n",
    "    \n",
    "\n",
    "print(combat(90,7))\n",
    "print(combat(3,3))\n",
    "print(combat(7,90))"
   ]
  },
  {
   "cell_type": "markdown",
   "metadata": {},
   "source": [
    "or more simple:"
   ]
  },
  {
   "cell_type": "code",
   "execution_count": null,
   "metadata": {},
   "outputs": [],
   "source": [
    "def combat(health, damage):\n",
    "    return max(health - damage, 0)\n",
    "\n",
    "print(combat(90,7))\n",
    "print(combat(3,3))\n",
    "print(combat(7,90))"
   ]
  },
  {
   "cell_type": "markdown",
   "metadata": {},
   "source": [
    "**Name abbreviations**"
   ]
  },
  {
   "cell_type": "code",
   "execution_count": null,
   "metadata": {},
   "outputs": [],
   "source": [
    "def abbrevName(name):\n",
    "    parts = name.split(\" \")\n",
    "    return parts[0][0].upper() + \".\" +  parts[1][0].upper()\n",
    "\n",
    "print(abbrevName(\"Emmanuelle Charpentier\"))\n",
    "print(abbrevName(\"emmanuelle charpentier\"))"
   ]
  },
  {
   "cell_type": "markdown",
   "metadata": {},
   "source": [
    "**Century**"
   ]
  },
  {
   "cell_type": "code",
   "execution_count": null,
   "metadata": {},
   "outputs": [],
   "source": [
    "def century(year):\n",
    "    return ((year) // 100) +1\n",
    "\n",
    "print(century(345))\n",
    "print(century(2045))\n",
    "print(century(2345))\n",
    "print(century(6980))"
   ]
  },
  {
   "cell_type": "markdown",
   "metadata": {},
   "source": [
    "### 1.2 Number guessing game"
   ]
  },
  {
   "cell_type": "code",
   "execution_count": null,
   "metadata": {},
   "outputs": [],
   "source": [
    "user_guess = None\n",
    "secret_number = 42\n",
    "while user_guess != secret_number:\n",
    "    user_guess = int(input(\"Please enter a number: \"))\n",
    "    if user_guess > secret_number:\n",
    "        print(\"Your number is too big!\")\n",
    "    elif user_guess < secret_number:\n",
    "        print(\"Your number is too small!\")\n",
    "    else:\n",
    "        print(\"That is correct!\")"
   ]
  },
  {
   "cell_type": "markdown",
   "metadata": {},
   "source": [
    "### 2. Sets"
   ]
  },
  {
   "cell_type": "markdown",
   "metadata": {},
   "source": [
    "Sets are unordered collections of objects. **They cannot contain an element more than once**:"
   ]
  },
  {
   "cell_type": "code",
   "execution_count": null,
   "metadata": {},
   "outputs": [],
   "source": [
    "my_numbers = {1, 2, 3, 4, 5, 5, 6, 6}\n",
    "\n",
    "print(my_numbers)"
   ]
  },
  {
   "cell_type": "markdown",
   "metadata": {},
   "source": [
    "As with lists and dictionaries, there is a built-in function that can convert certain objects into other data types. Again to the overview:\n",
    "\n",
    "list(...)\n",
    "\n",
    "dict(...) \n",
    "\n",
    "set(...)"
   ]
  },
  {
   "cell_type": "markdown",
   "metadata": {},
   "source": [
    "Generate lists, dictionaries, and sets from their arguments (if possible)."
   ]
  },
  {
   "cell_type": "code",
   "execution_count": null,
   "metadata": {},
   "outputs": [],
   "source": [
    "letter_set = set(\"A Python Tutorial\")\n",
    "print(letter_set)\n",
    "\n",
    "My_list = [\"A\",\"B\",\"C\",\"A\",\"B\",\"C\"]\n",
    "print(My_list)\n",
    "\n",
    "Empty_Dictionary = dict()\n",
    "print(Empty_Dictionary)\n",
    "\n",
    "list_without_duplicates = list(set(My_list))\n",
    "print(list_without_duplicates)"
   ]
  },
  {
   "cell_type": "markdown",
   "metadata": {},
   "source": [
    "Other interesting operations with sets are the so-called **boolean set operations** from the **set theory** in math.\n",
    "\n",
    "To read more about **boolean set theory** enter this link: https://towardsdatascience.com/python-sets-and-set-theory-2ace093d1607"
   ]
  },
  {
   "cell_type": "code",
   "execution_count": null,
   "metadata": {},
   "outputs": [],
   "source": [
    "Mammals = {\"lion\", \"horse\", \"eierlegende wollmilchsau\", \"platypus\", \"giraffe\", \"monkey\"}\n",
    "lay_eggs = {\"crow\", \"eagle\", \"eierlegende wollmilchsau\", \"platypus\", \"tucan\", \"parrot\"}\n",
    "\n",
    "print(Mammals & lay_eggs)   # \"set intersection\"        # Which animals lay eggs and are mammals? (Equivalent to the logical operators \"and\")\n",
    "print(lay_eggs - Mammals)   # \"set difference\"          # Which animals only lay eggs?\n",
    "print(lay_eggs ^ Mammals)   # \"symetric set difference\" # Which animals lay eggs or are mammals, but not both?? (Equivalent to the logical operators \"xor\")\n",
    "print(Mammals | lay_eggs)   # \"set union\"               # All animals (union of both sets) (Equivalent to the logical operators \"or\")"
   ]
  },
  {
   "cell_type": "markdown",
   "metadata": {},
   "source": [
    "#### 2.1 Exercise: common letters"
   ]
  },
  {
   "cell_type": "markdown",
   "metadata": {},
   "source": [
    "The same exercise, in three levels of difficulty:\n",
    "\n",
    "• Declare two strings text_1 and text_2. Then try to output the letters that are in both strings.\n",
    "\n",
    "• Write a function common_letters (text_1, text_2), which either outputs these common letters or supplies them as a return value.\n",
    "\n",
    "• Write a program that accepts two strings from the user and then outputs the common letters."
   ]
  },
  {
   "cell_type": "markdown",
   "metadata": {},
   "source": [
    "### 3. Object Oriented Programing (OOP)"
   ]
  },
  {
   "cell_type": "markdown",
   "metadata": {},
   "source": [
    "#### 3.1 Classes and Objects"
   ]
  },
  {
   "cell_type": "markdown",
   "metadata": {},
   "source": [
    "Relationships in the real world are very complex. Computers, on the other hand, are actually pretty stupid: They can only work with exact arithmetic rules and execute commands in a blunt manner. In order to make the world \"predictable\" you always need a model: a simplified representation of reality.\n",
    "Object orientation is one way of modeling relationships. The basic idea is to represent everything in the real world as an object with a state and well-defined behavior.\n",
    "Classes are blueprints for objects. They describe what functionality a specific object has and what states it has. Objects are then concrete instances of classes.\n",
    "So what is the difference between data structures and objects? Data structures hide functionality and offer data, objects offer functionality and hide data."
   ]
  },
  {
   "cell_type": "code",
   "execution_count": null,
   "metadata": {},
   "outputs": [],
   "source": [
    "class Bike:\n",
    "\n",
    "    def __init__(self, model, color):\n",
    "        self.model = model\n",
    "        self.color = color\n",
    "        self.current_speed = 0\n",
    "\n",
    "    def speed_up(self):\n",
    "        self.current_speed += 5\n",
    "\n",
    "    def slow_down(self):\n",
    "        self.current_speed -= 5\n",
    "\n",
    "    def brake(self):\n",
    "        self.current_speed = 0\n",
    "\n",
    "    def describe(self):\n",
    "        print(self.model, \"has color\", self.color,\n",
    "              \", current speed is\", str(self.current_speed), \"km/h\")\n",
    "\n",
    "mountain_bike = Bike(\"mountain bike\", \"black\")\n",
    "mountain_bike.speed_up()\n",
    "mountain_bike.describe()\n",
    "\n",
    "city_bike = Bike(\"city bike\", \"pink\")\n",
    "city_bike.speed_up()\n",
    "city_bike.speed_up()\n",
    "city_bike.speed_up()\n",
    "city_bike.describe()\n",
    "city_bike.brake()\n",
    "city_bike.describe()"
   ]
  },
  {
   "cell_type": "markdown",
   "metadata": {},
   "source": [
    "#### 3.2 Exercise: Object-oriented bank account"
   ]
  },
  {
   "cell_type": "markdown",
   "metadata": {},
   "source": [
    "Implements the Bank Account class.\n",
    "\n",
    "• A bank account has a unique ID and an account balance (initially 0)\n",
    "\n",
    "• You can deposit and withdraw a certain amount\n",
    "\n",
    "• You can have the current account balance displayed"
   ]
  },
  {
   "cell_type": "markdown",
   "metadata": {},
   "source": [
    "#### 3.3 Exercise (advanced): Pirates "
   ]
  },
  {
   "cell_type": "markdown",
   "metadata": {},
   "source": [
    "https://www.codewars.com/kata/object-oriented-piracy "
   ]
  },
  {
   "cell_type": "markdown",
   "metadata": {},
   "source": [
    "### 4. Further: Learning Python"
   ]
  },
  {
   "cell_type": "markdown",
   "metadata": {},
   "source": [
    "The first part of the course is over. If you wish to continue on your own, there are many options to do so:"
   ]
  },
  {
   "cell_type": "markdown",
   "metadata": {},
   "source": [
    "#### 4.1 Coding - Katas"
   ]
  },
  {
   "cell_type": "markdown",
   "metadata": {},
   "source": [
    "A certain training method has become established among developers: the so-called katas (the term comes from martial arts). Here a developer writes down a problem that needs to be solved. In addition, the challenger writes test code that checks whether the problem has been solved correctly. The other developer must then try to solve the problem in such a way that the test is successful."
   ]
  },
  {
   "cell_type": "markdown",
   "metadata": {},
   "source": [
    "There is a website where you can solve these katas in all levels of difficulty: www.codewars.com"
   ]
  },
  {
   "cell_type": "markdown",
   "metadata": {},
   "source": [
    "The next examples of katas will look femiliar to you, because we practice these problems in the lectures. A nice way to get to know the katas and also to practice:\n",
    "\n",
    "https://www.codewars.com/kata/drink-about/python \n",
    "\n",
    "https://www.codewars.com/kata/thinkful-logic-drills-traffic-light\n",
    "\n",
    "https://www.codewars.com/kata/sum-of-multiples\n",
    "\n",
    "http://www.codewars.com/kata/century-from-year/train/python\n",
    "\n",
    "http://www.codewars.com/kata/grasshopper-terminal-game-combat-function-1/train/python\n",
    "\n",
    "http://www.codewars.com/kata/abbreviate-a-two-word-name/train/python "
   ]
  },
  {
   "cell_type": "markdown",
   "metadata": {},
   "source": [
    "**For higher level** - kata of difficulty level 8 and 7 (Python language!): \n",
    "\n",
    "http://www.codewars.com/kata/search/python?q=&r%5B%5D=-8&r%5B%5D=-7&beta=false "
   ]
  },
  {
   "cell_type": "markdown",
   "metadata": {},
   "source": [
    "#### 4.2 Online courses"
   ]
  },
  {
   "cell_type": "markdown",
   "metadata": {},
   "source": [
    "There are free courses, even mobile apps for learning Python. The best thing is to look for something that is fun and brings you forward. \n",
    "\n",
    "**Coursera** - is an American massive open online course provider founded in 2012 by Stanford University's computer science professors. You can find there online courses for free.\n",
    "\n",
    "https://www.coursera.org/search?query=free%20courses%20Python&index=prod_all_products_term_optimization&productDifficultyLevel=Beginner&productDurationEnum=1-3%20Months&entityTypeDescription=Courses&utm_source=gg&utm_medium=sem&utm_content=Sitelink-freecourses-searchquery&campaignid=1599063752&adgroupid=58953588445&device=c&keyword=coursera%20courses&matchtype=e&network=g&devicemodel=&adpostion=&creativeid=343730227912&hide_mobile_promo=&gclid=Cj0KCQiAhZT9BRDmARIsAN2E-J3guIzG3LeZYthrswFyqCVQeYDlxrFV3nZGYBEo2uyvb6Q1s7zx7fkaAoMqEALw_wcB"
   ]
  },
  {
   "cell_type": "markdown",
   "metadata": {},
   "source": [
    "#### 4.3 Own projects"
   ]
  },
  {
   "cell_type": "markdown",
   "metadata": {},
   "source": [
    "Great for motivation: think up your own project (not too difficult) and simply implement it using search engines and developer forums."
   ]
  }
 ],
 "metadata": {
  "kernelspec": {
   "display_name": "Python 3",
   "language": "python",
   "name": "python3"
  },
  "language_info": {
   "codemirror_mode": {
    "name": "ipython",
    "version": 3
   },
   "file_extension": ".py",
   "mimetype": "text/x-python",
   "name": "python",
   "nbconvert_exporter": "python",
   "pygments_lexer": "ipython3",
   "version": "3.7.4"
  }
 },
 "nbformat": 4,
 "nbformat_minor": 2
}

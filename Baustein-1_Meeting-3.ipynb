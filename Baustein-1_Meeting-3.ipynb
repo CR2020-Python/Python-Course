{
 "cells": [
  {
   "cell_type": "markdown",
   "metadata": {},
   "source": [
    "# Baustein 1 Meeting 3"
   ]
  },
  {
   "cell_type": "markdown",
   "metadata": {},
   "source": [
    "### 1. Solutions for tasks of the last lecture "
   ]
  },
  {
   "cell_type": "markdown",
   "metadata": {},
   "source": [
    "(All solutions are only examples, there are many ways that lead to the solution)"
   ]
  },
  {
   "cell_type": "markdown",
   "metadata": {},
   "source": [
    "#### 1.1 Real pyramid of stars"
   ]
  },
  {
   "cell_type": "code",
   "execution_count": null,
   "metadata": {},
   "outputs": [],
   "source": [
    "for i in range (1,4):\n",
    "    print(\" * \"*i)\n",
    "    print()\n",
    "for i in range (4,0,-1):\n",
    "    print(\" * \"*i)\n",
    "    print()"
   ]
  },
  {
   "cell_type": "markdown",
   "metadata": {},
   "source": [
    "Or also:"
   ]
  },
  {
   "cell_type": "code",
   "execution_count": null,
   "metadata": {},
   "outputs": [],
   "source": [
    "i = 0 \n",
    "while i<4:\n",
    "    i+=1\n",
    "    print(\" * \"*i)\n",
    "    print()\n",
    "while i>0:\n",
    "    i-=1\n",
    "    print(\" * \"*i)\n",
    "    print()"
   ]
  },
  {
   "cell_type": "markdown",
   "metadata": {},
   "source": [
    "#### 1.2 Pyramid pattern of numbers"
   ]
  },
  {
   "cell_type": "code",
   "execution_count": null,
   "metadata": {},
   "outputs": [],
   "source": [
    "for i in range (1,10):                                    # without spaces\n",
    "    print(str(i)*i)\n",
    "    \n",
    "    \n",
    "                                                      \n",
    "for i in range(10):                                      # with spaces\n",
    "    for j in range(i):\n",
    "        print(i, end=\" \")\n",
    "    print()\n",
    "   "
   ]
  },
  {
   "cell_type": "markdown",
   "metadata": {},
   "source": [
    "### 2. Lists"
   ]
  },
  {
   "cell_type": "markdown",
   "metadata": {},
   "source": [
    "During the last lecture we already got to know the basics. The following is an outlook on what lists can still do."
   ]
  },
  {
   "cell_type": "markdown",
   "metadata": {},
   "source": [
    "#### 2.1 Sorting"
   ]
  },
  {
   "cell_type": "markdown",
   "metadata": {},
   "source": [
    "Sorting a list alphabetically or numerically can often be useful. Python can already do that:"
   ]
  },
  {
   "cell_type": "code",
   "execution_count": null,
   "metadata": {},
   "outputs": [],
   "source": [
    "numbers = [1, 5, 7, 4, 10, 26, 2, 42]\n",
    "numbers.sort()\n",
    "print(numbers)"
   ]
  },
  {
   "cell_type": "markdown",
   "metadata": {},
   "source": [
    "There is also a built-in function that returns the result directly:"
   ]
  },
  {
   "cell_type": "code",
   "execution_count": null,
   "metadata": {},
   "outputs": [],
   "source": [
    "numbers = [1, 5, 7, 4, 10, 26, 2, 42]\n",
    "print(sorted(numbers))"
   ]
  },
  {
   "cell_type": "markdown",
   "metadata": {},
   "source": [
    "#### 2.2 Negative Indexes"
   ]
  },
  {
   "cell_type": "markdown",
   "metadata": {},
   "source": [
    "If you are interested in an element at the end of a list (e.g. the penultimate one), you can get this with a negative index:"
   ]
  },
  {
   "cell_type": "code",
   "execution_count": null,
   "metadata": {},
   "outputs": [],
   "source": [
    "#index:    0  1  2  3   4   5             6              7\n",
    "#index:   -8 -7 -6 -5  -4  -3            -2             -1\n",
    "numbers = [1, 5, 7, 4, 10, 26, \"interesting element\", 42]\n",
    "print(numbers[6])\n",
    "print(numbers[-2])"
   ]
  },
  {
   "cell_type": "markdown",
   "metadata": {},
   "source": [
    "#### 2.3 Exercise - Sorting and Negative Indexes"
   ]
  },
  {
   "cell_type": "markdown",
   "metadata": {},
   "source": [
    "Now try sorting and combining negative indexes to find the two largest numbers in a list."
   ]
  },
  {
   "cell_type": "markdown",
   "metadata": {},
   "source": [
    "#### 2.4 Slicing"
   ]
  },
  {
   "cell_type": "markdown",
   "metadata": {},
   "source": [
    "As mentioned briefly in the last course, it can be helpful to only edit certain sections of lists."
   ]
  },
  {
   "cell_type": "code",
   "execution_count": null,
   "metadata": {},
   "outputs": [],
   "source": [
    "#a[start:end] Element from start until end-1\n",
    "#a[start:] Element from start \n",
    "#a[:end] Element from the begin until end-1 \n",
    "#a[:] Complete copy of an array \n",
    "#a[start:end:step] Element from start until end-1 with  \"step size\" step \n",
    "\n",
    "numbers = [0, 1, 2, 3, 4, 5, 6, 7, 8, 9, 10]\n",
    "\n",
    "print(numbers[1:7])\n",
    "print(numbers[5:])\n",
    "print(numbers[:5])\n",
    "print(numbers[1:7:2])\n",
    "print(numbers[7:1:-1])"
   ]
  },
  {
   "cell_type": "markdown",
   "metadata": {},
   "source": [
    "#### 2.5 Exercise - Slicing"
   ]
  },
  {
   "cell_type": "markdown",
   "metadata": {},
   "source": [
    "You got a mission to write a program for a supermarket. In every checkout process, the invoice for a customer comes in the following form:\n",
    "\n",
    "basket = ['cucumber', 12, 'pickles', 4, 'sugar', 8, 'rice', 17]\n",
    "\n",
    "The list always shows product followed by a price. Calculate the sum of the prices in the list \"basket\" using a Python program. Note: the built-in function sum can be helpful, it accepts a list of numbers and returns the sum.\n",
    "\n",
    "Syntax: sum(iterable, [start]) -> number\n",
    "\n",
    "iterable (required) Iterable item like string, list, dictionary etc. start (optional) An optional numeric value added to the final result. The default is 0.\n",
    "\n",
    "The sum() function only works with numerical values, trying to use it with non-numeric type will result in an error.\n"
   ]
  },
  {
   "cell_type": "code",
   "execution_count": null,
   "metadata": {},
   "outputs": [],
   "source": [
    "basket = ['cucumber', 12, 'pickles', 4, 'sugar', 8, 'rice', 17] \n",
    "\n",
    "# examples for the use of the \"sum\" function:\n",
    "print(sum([1, 2, 3, 4, 5])) # sum values in a list\n",
    "print(sum({1: \"one\", 2: \"two\", 3: \"three\"})) # sum values in a dictionary"
   ]
  },
  {
   "cell_type": "markdown",
   "metadata": {},
   "source": [
    "### 3. Functions"
   ]
  },
  {
   "cell_type": "markdown",
   "metadata": {},
   "source": [
    "Functions are reusable code blocks with clearly defined input parameters and output values. The def keyword introduces the function declaration. This is followed by the function name followed by parameters in parenthesis (). Parameters are placeholders that are only replaced by concrete values when a function is called. A function can have any number of parameters (separated by commas). The function is calculated in the following code block. Here are Some Examples:"
   ]
  },
  {
   "cell_type": "code",
   "execution_count": null,
   "metadata": {},
   "outputs": [],
   "source": [
    "def greet_user():\n",
    "    print(\"Hello World!\")\n",
    "\n",
    "greet_user()\n",
    "\n",
    "\n",
    "\n",
    "def greet_user(username):\n",
    "    print(\"Hello \" + username + \". Welcome to the Website!\")\n",
    "\n",
    "greet_user(\"Emma\")\n",
    "\n",
    "\n",
    "\n",
    "def calculate_price(price, shipping_method):\n",
    "    if shipping_method == \"express\":\n",
    "        price += 5\n",
    "    else:\n",
    "        price += 1\n",
    "    return price\n",
    "\n",
    "sum1 = calculate_price(price=12, shipping_method=\"express\")\n",
    "print(sum1)"
   ]
  },
  {
   "cell_type": "markdown",
   "metadata": {},
   "source": [
    "#### 3.1 Exercise: Hangman"
   ]
  },
  {
   "cell_type": "markdown",
   "metadata": {},
   "source": [
    "The aim of this exercise is to write a function show_word for the game \"Hangman\". This function takes a word and a list of guessed letters. The word is displayed on the screen, but letters that have not yet been guessed are replaced with underscore \"_\"."
   ]
  },
  {
   "cell_type": "code",
   "execution_count": null,
   "metadata": {},
   "outputs": [],
   "source": [
    "Example:\n",
    "    show_word (\"schifffahrt\", ['f', 's', 'h'])\n",
    "    the output should be: s_h_fff_h__ "
   ]
  },
  {
   "cell_type": "markdown",
   "metadata": {},
   "source": [
    "Important tips:\n",
    "\n",
    "• With the for loop you can go through the individual letters of a character string\n",
    "\n",
    "• With print (\"_\", end = \"\") you can output individual letters on the console\n",
    "\n",
    "• You can find out whether a letter is in a list with the \"in\" reserved keyword. \n",
    "\n",
    "Example:"
   ]
  },
  {
   "cell_type": "code",
   "execution_count": null,
   "metadata": {},
   "outputs": [],
   "source": [
    "print(\"a\" in [\"a\", \"b\", \"c\"])\n",
    "print(\"d\" in [\"a\", \"b\", \"c\"])"
   ]
  },
  {
   "cell_type": "markdown",
   "metadata": {},
   "source": [
    "The task in other words:\n",
    "    \n",
    "For each letter in the word:\n",
    "    \n",
    "• if this has been guessed (is included in the list), output it,\n",
    "\n",
    "• if not, output an underscore \"_\"."
   ]
  },
  {
   "cell_type": "markdown",
   "metadata": {},
   "source": [
    "### 4. Dictionaries"
   ]
  },
  {
   "cell_type": "markdown",
   "metadata": {},
   "source": [
    "Dictionaries are practical data structures. They store data under a key (in contrast to an index for a list. It is important that the keys are unique.\n",
    "With a dictionary we can, for example, save a weather report: an assignment of postcode to temperature, for example. Or an assignment of English to German words, literally a dictionary."
   ]
  },
  {
   "cell_type": "code",
   "execution_count": null,
   "metadata": {},
   "outputs": [],
   "source": [
    "weather_report = {\"21337\" : 22, \"20355\": 27, \"12345\": 17}\n",
    "dictionary_ENG_GER = {\"cat\": \"Katze\", \"monkey\": \"affe\", \"rain\" : \"Regen\"}\n",
    "\n",
    "# access\n",
    "print(dictionary_ENG_GER[\"cat\"])\n",
    "\n",
    "# Change or insert\n",
    "dictionary_ENG_GER[\"cat\"] = \"Tiger\"\n",
    "print(dictionary_ENG_GER)\n",
    "\n",
    "# Clear\n",
    "del dictionary_ENG_GER[\"cat\"]\n",
    "print(dictionary_ENG_GER)"
   ]
  },
  {
   "cell_type": "markdown",
   "metadata": {},
   "source": [
    "If a key is not found in the dictionary, your program crashes with an error! This can be ensured by a prior check."
   ]
  },
  {
   "cell_type": "code",
   "execution_count": null,
   "metadata": {},
   "outputs": [],
   "source": [
    "dictionary_ENG_GER = {\"cat\": \"Katze\", \"monkey\": \"affe\", \"rain\" : \"Regen\"}\n",
    "if \"cat\" in dictionary_ENG_GER:\n",
    "    print(dictionary_ENG_GER[\"cat\"])"
   ]
  },
  {
   "cell_type": "markdown",
   "metadata": {},
   "source": [
    "### 5. User entries"
   ]
  },
  {
   "cell_type": "markdown",
   "metadata": {},
   "source": [
    "User input in a program can be easily obtained in Python with the input () function. It makes a blinking cursor appear in the console window, and when the user confirms his entry with Enter, it delivers the entry as a character string. For example like this:"
   ]
  },
  {
   "cell_type": "code",
   "execution_count": null,
   "metadata": {},
   "outputs": [],
   "source": [
    "word = input()\n",
    "print(word)"
   ]
  },
  {
   "cell_type": "markdown",
   "metadata": {},
   "source": [
    "You can pass a character string to the input () function yourself, which is then displayed as a hint to the user."
   ]
  },
  {
   "cell_type": "code",
   "execution_count": null,
   "metadata": {},
   "outputs": [],
   "source": [
    "username = input(\"Please enter your username: \")\n",
    "print(\"Your user name is: \" + username)"
   ]
  },
  {
   "cell_type": "markdown",
   "metadata": {},
   "source": [
    "#### 5.1 Exercise - Interactive Hangman game"
   ]
  },
  {
   "cell_type": "markdown",
   "metadata": {},
   "source": [
    "Develop a real hangman game. You can use the function from the previous task (show_word) for this. It is better to divide the development of the game into several steps. It is possible to solve this exercise with an **infinite loop** (if you want to practice a new Python statement called <code>break</code>)or a non infinitive loop (as we practiced in the last lecture) .\n",
    "\n",
    "If you choose to write the code with infinite loop, it should be possible to complete the word in an **endless loop** (= Infinite loop). You can use the Python statement \"break\" in order to stop the loop. \n",
    "\n",
    "The <code>break</code> statement terminates the loop that containing it. Control of the program flows to the statement immediately after the body of the loop. \n",
    "\n",
    "If the <code>break</code> statement is inside a **nested loop** (loop inside another loop), the break statement will terminate the innermost loop. \n",
    "\n",
    "Here is a template for using infinite loop in our hangman game:"
   ]
  },
  {
   "cell_type": "code",
   "execution_count": null,
   "metadata": {},
   "outputs": [],
   "source": [
    "advised = []\n",
    "secret_word = \"schifffahrt\" # all in lower case for simplicity\n",
    "while True:\n",
    "    input_user = input()\n",
    "    advised.append(input_user)\n",
    "    # Show word here with the correct parameters!"
   ]
  },
  {
   "cell_type": "markdown",
   "metadata": {},
   "source": [
    "• If the user guessed the word correctly, then the program should print \"Bravo!\".\n",
    "\n",
    "• Now \"Game Over!\" should be printed, when the number of guessed letters exceeds 10. The game should be also aborted. \n",
    "\n",
    "(remember, with <code>len</code> you can find out the length of a list) \n",
    "\n",
    "• A statement for a bonus should be printed if the user won the game in less than 10 guesses: \"Bravo! You made it in less than 10 steps, therefore you get a bonus!\"."
   ]
  },
  {
   "cell_type": "markdown",
   "metadata": {},
   "source": [
    "#### 5.2 Exercise - dictionaries and user input"
   ]
  },
  {
   "cell_type": "markdown",
   "metadata": {},
   "source": [
    "We are writing an interactive dictionary. The user should enters a searched word. If the word is in the dictionary, the translation will appear in the output. If not, an error message should appear. In any case, the user should be asked again and again for an input until he enters \"quit\". To do this, first define any dictionary, for example the one from earlier:"
   ]
  },
  {
   "cell_type": "code",
   "execution_count": null,
   "metadata": {},
   "outputs": [],
   "source": [
    "dictionary = {\"cat\": \"Katze\", \"monkey\": \"Affe\", \"rain\" : \"Regen\"}\n",
    "# ..."
   ]
  },
  {
   "cell_type": "markdown",
   "metadata": {},
   "source": [
    "Perhaps it is helpful here not to worry about breaking the loop with \"quit\". You could start with an endless loop first:"
   ]
  },
  {
   "cell_type": "code",
   "execution_count": null,
   "metadata": {},
   "outputs": [],
   "source": [
    "while True:\n",
    "    user_input = input(\"Bitte gesuchtes wort eingeben\")\n",
    "#   ..."
   ]
  },
  {
   "cell_type": "markdown",
   "metadata": {},
   "source": [
    "### 6. More exercises"
   ]
  },
  {
   "cell_type": "markdown",
   "metadata": {},
   "source": [
    "#### 6.1 Functions"
   ]
  },
  {
   "cell_type": "markdown",
   "metadata": {},
   "source": [
    "Implement a function that meet the following specifications (or choose one):\n",
    "\n",
    "1. Write a combat function that gets the **parameters** \"health\" of a player and \"damage\" that the player takes. The **return** value should be the difference between health and damage. However, if this difference is negative, 0 should be returned.\n",
    "\n",
    "2. The second function should get a name as a **parameter** in the format “first name last name”. It supplies the initials of this name as **return** value. So “Gregor Strobel” becomes “G.S” and “Günter Jauch” “G.J”. If the name is written in lower case, the initials should still be capitalized!\n",
    "\n",
    "3. The third function receives a year as an integer **parameter** and **returns** the century. Note: The first century spans from year 1 - 100, the second from 101 - 200 etc. A few examples: centuryFromYear (1705) returns 18. centuryFromYear (1900) returns 19. centuryFromYear (1601) returns 17."
   ]
  },
  {
   "cell_type": "markdown",
   "metadata": {},
   "source": [
    "#### 6.2 Advanced: Number Guessing Game"
   ]
  },
  {
   "cell_type": "markdown",
   "metadata": {},
   "source": [
    "Define yourself a secret number with any value. The user should now be asked for a number in a loop. If he guessed correctly, the loop breaks. If he guesses too small or too big, he gets a hint and can guess again. For example, a sample session of the program output could look like this:"
   ]
  },
  {
   "cell_type": "code",
   "execution_count": null,
   "metadata": {},
   "outputs": [],
   "source": [
    "guess a number:\n",
    "5\n",
    "Wrong, you guessed to low!\n",
    "guess a number:\n",
    "72\n",
    "Wrong, you guessed to high!\n",
    "guess a number:\n",
    "40\n",
    "Wrong, you guessed to low!\n",
    "guess a number:\n",
    "42\n",
    "That´s right!"
   ]
  }
 ],
 "metadata": {
  "kernelspec": {
   "display_name": "Python 3",
   "language": "python",
   "name": "python3"
  },
  "language_info": {
   "codemirror_mode": {
    "name": "ipython",
    "version": 3
   },
   "file_extension": ".py",
   "mimetype": "text/x-python",
   "name": "python",
   "nbconvert_exporter": "python",
   "pygments_lexer": "ipython3",
   "version": "3.7.4"
  }
 },
 "nbformat": 4,
 "nbformat_minor": 2
}

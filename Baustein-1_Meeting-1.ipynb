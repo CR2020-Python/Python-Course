{
 "cells": [
  {
   "cell_type": "markdown",
   "metadata": {},
   "source": [
    "# Baustein 1 Meeting 1"
   ]
  },
  {
   "cell_type": "markdown",
   "metadata": {},
   "source": [
    "### 1. Hello World! Moin World!\n",
    "\n",
    "Printing the string “Hello World!” (“Moin world!”) in Python. This is the traditional way to write your first code in a new programming language."
   ]
  },
  {
   "cell_type": "code",
   "execution_count": 2,
   "metadata": {},
   "outputs": [
    {
     "name": "stdout",
     "output_type": "stream",
     "text": [
      "Moin world!\n"
     ]
    }
   ],
   "source": [
    "print(\"Moin world!\")"
   ]
  },
  {
   "cell_type": "markdown",
   "metadata": {},
   "source": [
    "Print is a built-in function in Python. The function <code>print</code> gets as an input everything the user wrote between the quotation marks and as an output it prints in the **console** everything the user provided as an input."
   ]
  },
  {
   "cell_type": "markdown",
   "metadata": {},
   "source": [
    "### 2.\tData types\n",
    "\n",
    "<code>Moin World!</code> is separated by quotation mark and therefore is defined as **string** type.\n",
    "\n",
    "Exampels for data types:\n",
    "\n",
    "Numbers:   Real – [class: **float**],  Integral - integer [class: **int**],  Booleans [class: **bool**], … \n",
    "\n",
    "Sequences: immutable – strings [class: **str**]…,  mutable – Lists [class: **list**]… \n",
    "\n",
    "Set types: Sets – [class: **set**]… \n",
    "\n",
    "Mapping: Dictionaries – [class: **dict**]"
   ]
  },
  {
   "cell_type": "markdown",
   "metadata": {},
   "source": [
    "For the standard type hierarchy please click here:\n",
    "https://upload.wikimedia.org/wikipedia/commons/1/10/Python_3._The_standard_type_hierarchy.png"
   ]
  },
  {
   "cell_type": "markdown",
   "metadata": {},
   "source": [
    "![Image of standard type hierarchy](https://upload.wikimedia.org/wikipedia/commons/1/10/Python_3._The_standard_type_hierarchy.png)"
   ]
  },
  {
   "cell_type": "markdown",
   "metadata": {},
   "source": [
    "Examples that shows the types <code>integer</code> and <code>float</code> in Python:"
   ]
  },
  {
   "cell_type": "code",
   "execution_count": 3,
   "metadata": {},
   "outputs": [
    {
     "name": "stdout",
     "output_type": "stream",
     "text": [
      "1\n",
      "1.2\n",
      "<class 'int'>\n",
      "<class 'float'>\n"
     ]
    }
   ],
   "source": [
    "print(1)\n",
    "print(1.2)\n",
    "\n",
    "print(type(1))\n",
    "print(type(1.2))"
   ]
  },
  {
   "cell_type": "markdown",
   "metadata": {},
   "source": [
    "Tip:  \n",
    "Reading a line of a code will always begin from the inner parenthesis \"()\" to the outer.\n",
    "The number of parenthesis should always be even for a proper code. "
   ]
  },
  {
   "cell_type": "markdown",
   "metadata": {},
   "source": [
    "### 3.\t**Variables** \n",
    "\n",
    "Variables are important for the process of programming, because of their ability to store **data** and **values**.  For example they can store strings (**str**), number (**integer** or **float**) and so on.. The values of variables can be changed during a program that we wrote, according to the operation we apply on them. That is why we can compare variable to a small storage. They are defined by the notation placeholder name, namely – value. Names of variables can contain letters, underscore (_), and numbers. **A name of variable can not start with a number, but can contain a number**. "
   ]
  },
  {
   "cell_type": "code",
   "execution_count": 4,
   "metadata": {},
   "outputs": [
    {
     "name": "stdout",
     "output_type": "stream",
     "text": [
      "Moin\n",
      "world\n",
      "Hallo\n",
      "world\n",
      "42.0\n",
      "This is string type\n"
     ]
    }
   ],
   "source": [
    "gruß = 'Moin'\n",
    "name = \"world\"\n",
    "\n",
    "print(gruß)\n",
    "print(name)\n",
    "\n",
    "gruß = 'Hallo'\n",
    "print(gruß)\n",
    "print(name)\n",
    "\n",
    "\n",
    "number = 42.0\n",
    "print(number)\n",
    "\n",
    "number = \"This is string type\"\n",
    "print(number)"
   ]
  },
  {
   "cell_type": "markdown",
   "metadata": {},
   "source": [
    "**Tip about string**: it is possible to limit string with quotation marks <code>“This is string type”</code> or between apostrophe <code>'This is string type'</code>."
   ]
  },
  {
   "cell_type": "code",
   "execution_count": 5,
   "metadata": {},
   "outputs": [
    {
     "name": "stdout",
     "output_type": "stream",
     "text": [
      "Wieder was gelernt\n",
      "Wieder was gelernt\n"
     ]
    }
   ],
   "source": [
    "print(\"Wieder was gelernt\")\n",
    "print('Wieder was gelernt')"
   ]
  },
  {
   "cell_type": "markdown",
   "metadata": {},
   "source": [
    "### 4.\tBasic operations\n",
    "\n",
    "What can we do with numbers and chars in programming?\n",
    "\n",
    "With numbers we can, for example, make calculation with the marks \n",
    "that we already know from Math (<code>+</code>,<code>-</code>,<code>*</code>,<code>/</code>), called **arithmetic operations**."
   ]
  },
  {
   "cell_type": "code",
   "execution_count": 6,
   "metadata": {},
   "outputs": [
    {
     "name": "stdout",
     "output_type": "stream",
     "text": [
      "30\n",
      "32\n",
      "4\n",
      "3\n",
      "3.0\n",
      "250\n",
      "0.30000000000000004\n"
     ]
    }
   ],
   "source": [
    "x = 10\n",
    "y = 20 \n",
    "print(x + y)\n",
    "z = x + y\n",
    "print(z + 2)\n",
    "print(2 * 2)\n",
    "print(5 - 2)\n",
    "print(12 / 4)\n",
    "print(10 * (20 + 5))\n",
    "\n",
    "print(0.1 + 0.2)"
   ]
  },
  {
   "cell_type": "markdown",
   "metadata": {},
   "source": [
    "There are more math operation in Python such as:\n",
    "\n",
    "<code>//</code> - Floor division, Returns the integral part of the quotient\n",
    "\n",
    "<code>%</code>  - Modulo, return the remainder of a division problem\n",
    "\n",
    "<code>**</code> - Exponentiation, return the power of two numbers"
   ]
  },
  {
   "cell_type": "code",
   "execution_count": 21,
   "metadata": {},
   "outputs": [
    {
     "name": "stdout",
     "output_type": "stream",
     "text": [
      "2\n",
      "3\n",
      "256\n"
     ]
    }
   ],
   "source": [
    "print(13 // 5)\n",
    "print(13 % 5)\n",
    "print(4 ** 4)"
   ]
  },
  {
   "cell_type": "markdown",
   "metadata": {},
   "source": [
    "Some of the arithmetic operation are also valid with strings. It is possible to use <code>+</code> in order to add one string to another or to use <code>*</code> in order to multiply a string."
   ]
  },
  {
   "cell_type": "code",
   "execution_count": 8,
   "metadata": {},
   "outputs": [
    {
     "name": "stdout",
     "output_type": "stream",
     "text": [
      "Moin Moin Moin Moin Moin Adel\n",
      "Moin Adel\n"
     ]
    }
   ],
   "source": [
    "name = \"Adel\"\n",
    "print(\"Moin \" * 5 + name)\n",
    "print(\"Moin \" + name)"
   ]
  },
  {
   "cell_type": "markdown",
   "metadata": {},
   "source": [
    "Would it work also if we will multiply string with string, or add a number to a string? \n",
    "Try it! "
   ]
  },
  {
   "cell_type": "code",
   "execution_count": 9,
   "metadata": {},
   "outputs": [
    {
     "name": "stdout",
     "output_type": "stream",
     "text": [
      "AdelAdelAdelAdelAdel\n"
     ]
    }
   ],
   "source": [
    "a = 3\n",
    "x = 5\n",
    "y = \"Adel\"\n",
    "z = \"Müller\"\n",
    "#print(y + x)\n",
    "#print(y * z)\n",
    "#print(a + x)\n",
    "#print(a * x)\n",
    "#print(y + z)\n",
    "print(y * x)"
   ]
  },
  {
   "cell_type": "markdown",
   "metadata": {},
   "source": [
    "No! it doesn´t work. We can not add numbers to strings or to multiply a string by string.\n",
    "We can only multiply a string by number and add a string to string. Why?\n",
    "Because the Python define the operations <code>*</code> and <code>+</code> in a different way when it needs to do so between numbers and strings. When we will try to mix between them, Python will pinpoint an **error message**."
   ]
  },
  {
   "cell_type": "markdown",
   "metadata": {},
   "source": [
    "##### 4.1 Tutorial: Purchase. \n",
    "\n",
    "You have 10 Euro and want to buy chocolate, lollypop and a train ticket. How much left in your pocket after buying?\n",
    "\n",
    "Product and pries: Chocolate 1.5E, Lollypop 2E, Train ticket 1E. \n",
    "\n",
    "Write a program in which you store the right pries in the right variable. The program should store the calculation of how much I spend in this trip and store the calculation of how much I have left in a variable with appropriate name.\n",
    "In the end the program should print how much I have left in my pocket."
   ]
  },
  {
   "cell_type": "code",
   "execution_count": 10,
   "metadata": {},
   "outputs": [
    {
     "name": "stdout",
     "output_type": "stream",
     "text": [
      "5.5\n"
     ]
    }
   ],
   "source": [
    "Money = 10                                        #the money I have in my pocket\n",
    "Chocolate = 1.5                                   #the preis of a Chocolate\n",
    "Lollypop = 2                                      #the preis of a Lollypop\n",
    "Train_ticket = 1                                  #the preis of a Train_ticket\n",
    "total = Chocolate + Lollypop + Train_ticket       #the cost of all the three\n",
    "extra = Money - total                             #the money I have in my pocket after paying everythig\n",
    "print(extra)"
   ]
  },
  {
   "cell_type": "markdown",
   "metadata": {},
   "source": [
    "### 5.\tFlow control – Boolean\n",
    "\n",
    "Sometimes we will need the program to act in a different way, as a condition of Yes or No / True or False. This kind of values called Boolean in Python (upon the name of George Boole, the mathematician). This sort of data has only two values: **True** (the computer translate it into machine language to **1**), **False** (the computer translate it into machine language to **0**)."
   ]
  },
  {
   "cell_type": "code",
   "execution_count": 11,
   "metadata": {},
   "outputs": [
    {
     "name": "stdout",
     "output_type": "stream",
     "text": [
      "<class 'bool'>\n",
      "<class 'bool'>\n"
     ]
    }
   ],
   "source": [
    "print(type(True))\n",
    "print(type(False))"
   ]
  },
  {
   "cell_type": "markdown",
   "metadata": {},
   "source": [
    "Examples with the use of Boolean:"
   ]
  },
  {
   "cell_type": "code",
   "execution_count": 12,
   "metadata": {},
   "outputs": [
    {
     "name": "stdout",
     "output_type": "stream",
     "text": [
      "Sun\n"
     ]
    }
   ],
   "source": [
    "is_it_hot = True\n",
    "\n",
    "if is_it_hot:\n",
    "    print(\"Sun\")"
   ]
  },
  {
   "cell_type": "markdown",
   "metadata": {},
   "source": [
    "Boolean could be helpful in case we want to make a decision point in our program. Truth values can also be calculated from preconditions. For example, by comparing numbers. Suppose you want to display the word “Sun” in a program when the temperature is equal or over 20 degrees, \"Rain\" when the temperature is between 0 to 20, \"Snow\" when the temperature is lower than 0.\n",
    "Very easy: "
   ]
  },
  {
   "cell_type": "code",
   "execution_count": 13,
   "metadata": {},
   "outputs": [
    {
     "name": "stdout",
     "output_type": "stream",
     "text": [
      "Sun\n"
     ]
    }
   ],
   "source": [
    "temperature = 40\n",
    "if temperature <= 0:\n",
    "    print (\"Snow\")\n",
    "\n",
    "if temperature > 0 and temperature < 20:\n",
    "    print(\"Rain\")\n",
    "    \n",
    "if temperature >= 20:\n",
    "    print(\"Sun\")"
   ]
  },
  {
   "cell_type": "markdown",
   "metadata": {},
   "source": [
    "There are 6 **comparison operators** to compare between numbers: \n",
    "\n",
    "<code>==</code>\tequal\n",
    "\n",
    "<code>!=</code>\tdifferent\n",
    "\n",
    "<code>>=</code>\tbiger or equal \n",
    "\n",
    "<code><=</code>\tsmaller or equal\n",
    "\n",
    "<code><</code>  smaller\n",
    "\n",
    "<code>></code> \tbiger"
   ]
  },
  {
   "cell_type": "markdown",
   "metadata": {},
   "source": [
    "With the help of the **reserved keyword** in Python “**elif**” we can check few conditions in a row in our program. Now we can write the \"Temperature\" program even more easily. "
   ]
  },
  {
   "cell_type": "code",
   "execution_count": 14,
   "metadata": {},
   "outputs": [
    {
     "name": "stdout",
     "output_type": "stream",
     "text": [
      "Temperature is smaller than 10\n"
     ]
    }
   ],
   "source": [
    "temperature = 8\n",
    "if temperature < 10:\n",
    "    print(\"Temperature is smaller than 10\")\n",
    "elif temperatur < 20:\n",
    "    print(\"Temperature is smaller than 20\")\n",
    "else:\n",
    "    print(\"Temperature is 20 or bigger than 20\")"
   ]
  },
  {
   "cell_type": "markdown",
   "metadata": {},
   "source": [
    "For more Reserved keyword in Python 3 please click here: \n",
    "https://www.tutorialspoint.com/What-are-Reserved-Keywords-in-Python"
   ]
  },
  {
   "cell_type": "markdown",
   "metadata": {},
   "source": [
    "With the reserved word \"or\" and \"and\" we can link conditions:"
   ]
  },
  {
   "cell_type": "code",
   "execution_count": 15,
   "metadata": {},
   "outputs": [
    {
     "name": "stdout",
     "output_type": "stream",
     "text": [
      "It's an amazing day\n"
     ]
    }
   ],
   "source": [
    "is_it_snow = True\n",
    "is_it_sunny = True\n",
    "\n",
    "if is_it_snow and is_it_sunny:\n",
    "    print(\"It's an amazing day\")"
   ]
  },
  {
   "cell_type": "markdown",
   "metadata": {},
   "source": [
    "We can use the next 3 logical operators (\"not\", “and”, “or”) in order to enlarge our options to link conditions: https://i.stack.imgur.com/nl0W8.jpg"
   ]
  },
  {
   "cell_type": "markdown",
   "metadata": {},
   "source": [
    "![Image of Yaktocat](https://i.stack.imgur.com/nl0W8.jpg)"
   ]
  },
  {
   "cell_type": "markdown",
   "metadata": {},
   "source": [
    "Every **logic operation** has a preference:\n",
    "1.\tArithmetic operations\n",
    "2.\tComparison operations\n",
    "3.\tNot\n",
    "4.\tAnd\n",
    "5.\tOr"
   ]
  },
  {
   "cell_type": "markdown",
   "metadata": {},
   "source": [
    "A task: what will be the result for the next equation?\n",
    "    \n",
    "Not 11>80 and 5==2 or not False"
   ]
  },
  {
   "cell_type": "markdown",
   "metadata": {},
   "source": [
    "### 6.\t**Loops**\n",
    "\n",
    "Loops are always useful in cases when we want to repeat operations. For example loops are used in our e-mail system when we are sending the same e-mail to all of our colleagues in the office. For example, an invitation for Christmas party in the company. The loop repeats a block of code as long as the loop condition is True."
   ]
  },
  {
   "cell_type": "markdown",
   "metadata": {},
   "source": [
    "Examples for codes containing loops:\n",
    "\n",
    "##### 6.1. Print all the numbers between 2 to 11."
   ]
  },
  {
   "cell_type": "code",
   "execution_count": 16,
   "metadata": {},
   "outputs": [
    {
     "name": "stdout",
     "output_type": "stream",
     "text": [
      "2\n",
      "3\n",
      "4\n",
      "5\n",
      "6\n",
      "7\n",
      "8\n",
      "9\n",
      "10\n",
      "11\n"
     ]
    }
   ],
   "source": [
    "i = 1\n",
    "while i <= 10:         # as long as i is amaller or equal to 10\n",
    "    i += 1             # adding 1 to i. The short way to write i = i + 1\n",
    "    print(i)"
   ]
  },
  {
   "cell_type": "markdown",
   "metadata": {},
   "source": [
    "##### 6.2. Print all the odd numbers between 1 to 10."
   ]
  },
  {
   "cell_type": "code",
   "execution_count": 17,
   "metadata": {},
   "outputs": [
    {
     "name": "stdout",
     "output_type": "stream",
     "text": [
      "1\n",
      "3\n",
      "5\n",
      "7\n",
      "9\n"
     ]
    }
   ],
   "source": [
    "b = 1\n",
    "while b <= 10:\n",
    "    print(b)\n",
    "    b += 2"
   ]
  },
  {
   "cell_type": "markdown",
   "metadata": {},
   "source": [
    "Loops can also be **nested**, when we have a loop in a loop. And we can also write as much commands as we want in a loop. There are **While** loops and there are **For** loops. We can always replace between them, but it is easier to work with \"For\" loops when we know exactly how many times we want to repeat a certain block of commands (for example 300 colleagues in our office) and with \"While\" loops when we know what are the conditions to stop the loop."
   ]
  },
  {
   "cell_type": "markdown",
   "metadata": {},
   "source": [
    "##### 6.3. The next example shows how we can use other commands inside of a loop structure.\n",
    "Print all the numbers between 1 to 6, when next to each number there is a note saying if it is an odd number or even number."
   ]
  },
  {
   "cell_type": "code",
   "execution_count": 18,
   "metadata": {},
   "outputs": [
    {
     "name": "stdout",
     "output_type": "stream",
     "text": [
      "1 is an odd number\n",
      "2 is an even number\n",
      "3 is an odd number\n",
      "4 is an even number\n",
      "5 is an odd number\n",
      "6 is an even number\n"
     ]
    }
   ],
   "source": [
    "a = 1\n",
    "while a < 7:\n",
    "    if a % 2 == 0:\n",
    "        print(a, \"is an even number\")\n",
    "    else:\n",
    "        print(a, \"is an odd number\")\n",
    "    a += 1"
   ]
  },
  {
   "cell_type": "markdown",
   "metadata": {},
   "source": [
    "### 7. **Comments**, **Documentation** and **Indentation**:\n",
    "\n",
    "It is imprtant to clerify your code as much as posible, so that in 10 years from writting the code you can still remind yourself how to use it and so that other people (colleagues, friends, Python peers...) can use it just by reading your **documentation**. \n",
    "\n",
    "**Indentation** is important in programing and specifically in python, because sometimes Python will show an error when the **Indentation** is wrong. To keep on correct **Indentation**, we should use the “Tab key” instead of the “Space key” - a tab looks just like four spaces but Python interprets it differently. "
   ]
  },
  {
   "cell_type": "code",
   "execution_count": 19,
   "metadata": {},
   "outputs": [
    {
     "name": "stdout",
     "output_type": "stream",
     "text": [
      "Moin World!\n"
     ]
    }
   ],
   "source": [
    "print(\"Moin World!\")    # This function prints the text \"Moin World!\"  in the console."
   ]
  }
 ],
 "metadata": {
  "kernelspec": {
   "display_name": "Python 3",
   "language": "python",
   "name": "python3"
  },
  "language_info": {
   "codemirror_mode": {
    "name": "ipython",
    "version": 3
   },
   "file_extension": ".py",
   "mimetype": "text/x-python",
   "name": "python",
   "nbconvert_exporter": "python",
   "pygments_lexer": "ipython3",
   "version": "3.7.4"
  }
 },
 "nbformat": 4,
 "nbformat_minor": 2
}

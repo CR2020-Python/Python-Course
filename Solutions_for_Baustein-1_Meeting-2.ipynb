{
 "cells": [
  {
   "cell_type": "markdown",
   "metadata": {},
   "source": [
    "# Solutions for Baustein 1 Meeting 2"
   ]
  },
  {
   "cell_type": "markdown",
   "metadata": {},
   "source": [
    "There are more then one way to solve the quests. Here you will only one example for each exercise."
   ]
  },
  {
   "cell_type": "markdown",
   "metadata": {},
   "source": [
    "## Exercise 3: Backward Number"
   ]
  },
  {
   "cell_type": "code",
   "execution_count": null,
   "metadata": {},
   "outputs": [],
   "source": [
    "num = int(input(\"Please enter a number: \"))\n",
    "reversed_num = 0\n",
    "while num > 0:\n",
    "    reminder_num = num % 10\n",
    "    reversed_num = (reversed_num * 10) + reminder_num\n",
    "    num = num // 10\n",
    "print(\"Your reversed number is: \", reversed_num)"
   ]
  },
  {
   "cell_type": "markdown",
   "metadata": {},
   "source": [
    "## Exercise 4: Math exam in high-school"
   ]
  },
  {
   "cell_type": "code",
   "execution_count": null,
   "metadata": {},
   "outputs": [],
   "source": [
    "math_exam = input(\"Please enter a list of grades from the last math exam:\")\n",
    "print()\n",
    "\n",
    "math_exam = math_exam.split()\n",
    "\n",
    "for score in math_exam:\n",
    "    if int(score)>=90:\n",
    "        print(score, \" Great!\")\n",
    "    elif int(score)>=80 and int(score)<90:\n",
    "        print(score, \" Very good!\")\n",
    "    elif int(score)>=75 and int(score)<80:\n",
    "        print(score, \" Good!\")\n",
    "    elif int(score)>=65 and int(score)<75:\n",
    "        print(score, \" Could be better\")\n",
    "    elif int(score)>=55 and int(score)<65:\n",
    "        print(score, \" Why didn't you study?\")\n",
    "    else:\n",
    "        print(score, \" Failed\")   "
   ]
  },
  {
   "cell_type": "markdown",
   "metadata": {},
   "source": [
    "## Exercise 5: Number times of a number"
   ]
  },
  {
   "cell_type": "code",
   "execution_count": null,
   "metadata": {},
   "outputs": [],
   "source": [
    "test = \"yes\"\n",
    "num = int(input(\"Please enter a number between 1 to 9:\"))\n",
    "\n",
    "if (1<num) and (num<9):\n",
    "    for i in range (num):\n",
    "        print(num, end=\"\")\n",
    "   \n",
    "elif not((1<num) and (num<9)):                       \n",
    "    while test == \"yes\":\n",
    "        test = input(\"Sorry, you must input a number from 1 to 9. Would you like to try again?\")\n",
    "        if test == \"yes\":\n",
    "            num = int(input(\"Please enter a number between 1 to 9:\"))\n",
    "            if (1<num and num<9):\n",
    "                for i in range (num):\n",
    "                    print(num, end=\"\")\n",
    "                test = \"no\"\n",
    "        else:\n",
    "            print(\"Too bad... maybe next time...bye!\")\n",
    "            test = \"no\"      "
   ]
  }
 ],
 "metadata": {
  "kernelspec": {
   "display_name": "Python 3",
   "language": "python",
   "name": "python3"
  },
  "language_info": {
   "codemirror_mode": {
    "name": "ipython",
    "version": 3
   },
   "file_extension": ".py",
   "mimetype": "text/x-python",
   "name": "python",
   "nbconvert_exporter": "python",
   "pygments_lexer": "ipython3",
   "version": "3.7.4"
  }
 },
 "nbformat": 4,
 "nbformat_minor": 2
}

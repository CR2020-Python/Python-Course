{
 "cells": [
  {
   "cell_type": "markdown",
   "metadata": {},
   "source": [
    "# Baustein 1 Meeting 2"
   ]
  },
  {
   "cell_type": "markdown",
   "metadata": {},
   "source": [
    "### Lists and For loops\n",
    "### 1. Warm up exercises:\n",
    "##### 1.1 Traffic light control:\n",
    "\n",
    "Define a variable named \"color\" with a string value-\"red\", \"green\" or \"yellow\". In the code you should use the reserved keywords: if, elif and else. If the value is red it should be changed to green. If it´s green it should be changed to yellow, and if it´s yellow it should be changed to red. "
   ]
  },
  {
   "cell_type": "code",
   "execution_count": null,
   "metadata": {},
   "outputs": [],
   "source": [
    "color = \"yellow\"\n",
    "\n",
    "if color == \"red\":\n",
    "    color=\"green\"\n",
    "elif color == \"green\":\n",
    "    color = \"yellow\"\n",
    "else: \n",
    "    color = \"red\"\n",
    "print(color)"
   ]
  },
  {
   "cell_type": "markdown",
   "metadata": {},
   "source": [
    "##### 1.2 Drinks machine\n",
    "\n",
    "Write a code for the next requirement: a machine should provide the right drink to the right custumer depending on his age. People under the age 14 should get orange juice. People under the age 18 but bigger then 14 should get Coca cola. People that are under age 21 but bigger then 18 should get a beer, and people that are bigger then 21 should get a wiskey.\n",
    "For this task you should define a variable named \"age\" and use the function if-elif-else that in the end will provide the suitable  drink to a specific custumer."
   ]
  },
  {
   "cell_type": "code",
   "execution_count": null,
   "metadata": {},
   "outputs": [],
   "source": [
    "age = 32\n",
    "\n",
    "if age<14:\n",
    "    print(\"Orange juice\")\n",
    "elif age>=14 and age<18:\n",
    "    print (\"Coca Cola\")\n",
    "elif age>=18 and age<21:\n",
    "    print(\"Beer\")\n",
    "else:\n",
    "    print(\"Whiskey\")"
   ]
  },
  {
   "cell_type": "markdown",
   "metadata": {},
   "source": [
    "Bonus Q: write a drinks machine code, but this time the code should use a while loop that will run up to age 25 and will print the corect drink for each age (up to 25) as an output. "
   ]
  },
  {
   "cell_type": "code",
   "execution_count": null,
   "metadata": {},
   "outputs": [],
   "source": [
    "age = 1\n",
    "\n",
    "while age<=25:\n",
    "    if age<14: \n",
    "        print (\"Orange juice\")\n",
    "        age += 1\n",
    "    elif age>=14 and age<18:\n",
    "        print (\"Coca Cola\")\n",
    "        age += 1\n",
    "    elif age>=18 and age<21:\n",
    "        print(\"Beer\")\n",
    "        age += 1\n",
    "    else:\n",
    "        print(\"Whiskey\")\n",
    "        age += 1"
   ]
  },
  {
   "cell_type": "markdown",
   "metadata": {},
   "source": [
    "### 2 Lists"
   ]
  },
  {
   "cell_type": "markdown",
   "metadata": {},
   "source": [
    "Lists are a collection of **elements** in a certain order. Every element in the list has an **index** (that can not be changed). The index is the location of a specific element in the list. Elements in a list can be anything: numbers, strings, booleans, and also lists."
   ]
  },
  {
   "cell_type": "code",
   "execution_count": null,
   "metadata": {},
   "outputs": [],
   "source": [
    "My_List = [\"abc\", \"stone\", \"water\", 1, 2]          # \"water\" appear in the third place in the string, but it´s index is 2. Becaouse the index in lists start in a location \"0\". \n",
    "\n",
    "print(My_List[2])                                  # How can we determine the length of the list?"
   ]
  },
  {
   "cell_type": "markdown",
   "metadata": {},
   "source": [
    "We can do much more with lists: to omit, to add, to change any element in the list. There are many functions that we will learn later on."
   ]
  },
  {
   "cell_type": "code",
   "execution_count": 1,
   "metadata": {},
   "outputs": [
    {
     "name": "stdout",
     "output_type": "stream",
     "text": [
      "Element from the list:Rabbit\n",
      "<class 'str'>\n",
      "['Giraffe', 'Pig', 'Monkey', 'Mouse', 'Dog', 'Elephant']\n",
      "['Giraffe', 'Pig', 'Monkey', 'Mouse', 'Elephant']\n",
      "['Pig', 'Monkey', 'Mouse', 'Elephant']\n"
     ]
    }
   ],
   "source": [
    "animals = [\"Giraffe\", \"Monkey\", \"Rabbit\", \"Dog\"]\n",
    "\n",
    "animal = animals[2]                                         # access: the variable animal gets the value that appears in the list \"animals\" at index 2.\n",
    "print(\"Element from the list:\" + animal)\n",
    "\n",
    "animals[2] = \"Mouse\"                                        # change: in the index 2 of list \"animals\" we replaced the value \"Rabbit\" with a new value - \"Mouse\".\n",
    "print(type(animals[2]))                                     # what kind of type is the value in index 2 of list \"animals\"?\n",
    " \n",
    "animals.insert(1, \"Pig\")                                    # adding and changing a value in a list through adding a new value and \"pushing\" the list forward.\n",
    "\n",
    "animals.append(\"Elephant\")                                  # adding a value in the end of a list.\n",
    "print(animals)\n",
    "\n",
    "del animals[4]                                              # Omit a value that sotored in a specific index in the list:\n",
    "print(animals)\n",
    "\n",
    "animals.remove(\"Giraffe\")                                   # search and remove the first value that is equal to the value I am looking for.\n",
    "print(animals)"
   ]
  },
  {
   "cell_type": "markdown",
   "metadata": {},
   "source": [
    "Another useful tool for lists is <code>split</code>. With <code>split</code> we can split a string into a List form."
   ]
  },
  {
   "cell_type": "code",
   "execution_count": null,
   "metadata": {},
   "outputs": [],
   "source": [
    "statement = \"The brown monkey climbs over the giraffe's long neck\"\n",
    "print(statement.split(\" \"))"
   ]
  },
  {
   "cell_type": "markdown",
   "metadata": {},
   "source": [
    "### 3. \"For\" loops\n",
    "\n"
   ]
  },
  {
   "cell_type": "markdown",
   "metadata": {},
   "source": [
    "Sometimes we will need to repeat in our program a block of code for a known number of times. We can do that with the <code>while</code> loop, but there is a simple way to do so for specific cases - <code>for</code> loops!"
   ]
  },
  {
   "cell_type": "code",
   "execution_count": null,
   "metadata": {},
   "outputs": [],
   "source": [
    "users = [\"Mia\", \"Emma\", \"Hannah\", \"Emilia\", \"Marie\"]\n",
    "\n",
    "for name in users:\n",
    "    print(name + \" is great\")"
   ]
  },
  {
   "cell_type": "markdown",
   "metadata": {},
   "source": [
    "The function <code>range</code> enables to make an iteration through series of numbers. For that we should provide the function <code>range</code> a start value and an end value. We can provide the function a number that indicates how many \"jumps\" the function should do.  "
   ]
  },
  {
   "cell_type": "code",
   "execution_count": null,
   "metadata": {},
   "outputs": [],
   "source": [
    "for i in range (1,5):\n",
    "    print(i)\n",
    "    \n",
    "for i in range (1,10,2):\n",
    "    print(i)"
   ]
  },
  {
   "cell_type": "markdown",
   "metadata": {},
   "source": [
    "With a <code>for</code> loops it is possible to work with everything that can be count in a definit order. For example char/string. We repeat on single char."
   ]
  },
  {
   "cell_type": "code",
   "execution_count": null,
   "metadata": {},
   "outputs": [],
   "source": [
    "string = \"Hawaii\"\n",
    "for letter in string: \n",
    "    print(letter)"
   ]
  },
  {
   "cell_type": "markdown",
   "metadata": {},
   "source": [
    "### 4. <code>for</code> loop as <code>while</code> loop"
   ]
  },
  {
   "cell_type": "markdown",
   "metadata": {},
   "source": [
    "Try to write the code we wrote with <code>for</code> loop before, but this time with <code>while</code> loop: "
   ]
  },
  {
   "cell_type": "code",
   "execution_count": null,
   "metadata": {},
   "outputs": [],
   "source": [
    "users = [\"Mia\", \"Emma\", \"Hannah\", \"Emilia\", \"Marie\"]\n",
    "\n",
    "users.append(\"!\")\n",
    "i = 0\n",
    "\n",
    "while users[i] != \"!\":\n",
    "    print(users[i] + \" is great\")\n",
    "    i += 1"
   ]
  },
  {
   "cell_type": "code",
   "execution_count": null,
   "metadata": {},
   "outputs": [],
   "source": [
    "i = 1\n",
    "while i<5:\n",
    "    print(i)\n",
    "    i += 1"
   ]
  },
  {
   "cell_type": "code",
   "execution_count": null,
   "metadata": {},
   "outputs": [],
   "source": [
    "i = 1\n",
    "while i<10:\n",
    "    print(i)\n",
    "    i += 2"
   ]
  },
  {
   "cell_type": "code",
   "execution_count": null,
   "metadata": {},
   "outputs": [],
   "source": [
    "string = \"Hawaii\"\n",
    "length = len(string)\n",
    "i = 0\n",
    "\n",
    "while i<length:\n",
    "    print(string[i])\n",
    "    i += 1"
   ]
  },
  {
   "cell_type": "markdown",
   "metadata": {},
   "source": [
    "Building a Pyramid!\n",
    "\n",
    "We want to print stars in right triangle shape using <code>while</code> loop followed by <code>for</code> loop. "
   ]
  },
  {
   "cell_type": "code",
   "execution_count": null,
   "metadata": {},
   "outputs": [],
   "source": [
    "for i in range (1,5):\n",
    "    for j in range (i):\n",
    "        print(\"*\", end=\" \")\n",
    "    print()"
   ]
  },
  {
   "cell_type": "code",
   "execution_count": null,
   "metadata": {},
   "outputs": [],
   "source": [
    "num = 4\n",
    "row = 0\n",
    "while row<num:\n",
    "    star = row + 1\n",
    "    while star>0:\n",
    "        print(\"*\", end=\" \")\n",
    "        star -= 1\n",
    "    row += 1\n",
    "    print()       "
   ]
  },
  {
   "cell_type": "code",
   "execution_count": null,
   "metadata": {},
   "outputs": [],
   "source": [
    "Exercise 1: write a program that will print \"real pyramid\" like this:\n",
    "*\n",
    "* *\n",
    "* * *\n",
    "* * * *\n",
    "* * *\n",
    "* *\n",
    "*"
   ]
  },
  {
   "cell_type": "code",
   "execution_count": null,
   "metadata": {},
   "outputs": [],
   "source": [
    "Exercise 2: write a program that will print a pyramid of numbers like this:\n",
    "\n",
    "1\n",
    "2 2\n",
    "3 3 3\n",
    "4 4 4 4\n",
    "5 5 5 5 5\n",
    "6 6 6 6 6 6\n",
    "7 7 7 7 7 7 7\n",
    "8 8 8 8 8 8 8 8\n",
    "9 9 9 9 9 9 9 9 9"
   ]
  },
  {
   "cell_type": "markdown",
   "metadata": {},
   "source": [
    "**Exercise 3**: Write a program that gets a number from the user and prints as an output the number backward.\n",
    "    Example: input: 987654321 output: 123456789"
   ]
  },
  {
   "cell_type": "markdown",
   "metadata": {},
   "source": [
    "**Exercise 4**: Write a program that gets as an input a list of scores from the last math exam in high-school.The program should print each score with the notes: Great (score>=90), Very Good (90>score>=80), Good (80>score>=75), Could be better (75>score>=65), Why didn´t you study (65>score>=55), Failed (55>score)."
   ]
  },
  {
   "cell_type": "markdown",
   "metadata": {},
   "source": [
    "**Exercise 5**: Write a program that gets as an input a number between 1 to 9. The program should print the number exactly  \n",
    "    number times. Example: input: 4, output: 4444.\n",
    "\n",
    "A challenge: The program should check that the input is indeed a number between 1 to 9. If not the program should print \"Sorry, you must input a number from 1 to 9\". Then the program should ask the user if he would like to try again, if he wants to do that, the program should ask again for a number and give the correct answer."
   ]
  }
 ],
 "metadata": {
  "kernelspec": {
   "display_name": "Python 3",
   "language": "python",
   "name": "python3"
  },
  "language_info": {
   "codemirror_mode": {
    "name": "ipython",
    "version": 3
   },
   "file_extension": ".py",
   "mimetype": "text/x-python",
   "name": "python",
   "nbconvert_exporter": "python",
   "pygments_lexer": "ipython3",
   "version": "3.7.4"
  }
 },
 "nbformat": 4,
 "nbformat_minor": 2
}
